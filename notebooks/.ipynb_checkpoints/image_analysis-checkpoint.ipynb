{
 "cells": [
  {
   "cell_type": "code",
   "execution_count": 1,
   "metadata": {},
   "outputs": [],
   "source": [
    "import matplotlib.pyplot as plt\n",
    "import numpy as np\n",
    "import pandas as pd\n",
    "from gensim.models import Word2Vec, word2vec\n",
    "from PIL import Image\n",
    "\n",
    "import os\n",
    "\n",
    "pd.set_option('display.max_rows', 4200)\n",
    "%load_ext autoreload\n",
    "%autoreload 2"
   ]
  },
  {
   "cell_type": "code",
   "execution_count": 2,
   "metadata": {},
   "outputs": [],
   "source": [
    "LABEL_FILE = \"../data/verified/all_labels.csv\""
   ]
  },
  {
   "cell_type": "code",
   "execution_count": 3,
   "metadata": {},
   "outputs": [],
   "source": [
    "with open(LABEL_FILE, 'r') as f:\n",
    "    lines = f.readlines()\n",
    "image_files = [os.path.join(os.path.pardir, line.strip().split(',')[0]) for line in lines]\n",
    "# lines = list(map(lambda s: s.strip().split(',')[1:], lines))"
   ]
  },
  {
   "cell_type": "code",
   "execution_count": 4,
   "metadata": {},
   "outputs": [],
   "source": [
    "for image_file in image_files:\n",
    "    if not os.path.isfile(image_file):\n",
    "        print(image_file)"
   ]
  },
  {
   "cell_type": "code",
   "execution_count": 6,
   "metadata": {},
   "outputs": [],
   "source": [
    "shapes = []\n",
    "for image_file in image_files:\n",
    "    img = Image.open(image_file)\n",
    "    w, h = img.size\n",
    "    shapes.append((w, h))"
   ]
  },
  {
   "cell_type": "code",
   "execution_count": null,
   "metadata": {},
   "outputs": [],
   "source": []
  }
 ],
 "metadata": {
  "kernelspec": {
   "display_name": "pytorch1.3",
   "language": "python",
   "name": "pytorch1.3"
  },
  "language_info": {
   "codemirror_mode": {
    "name": "ipython",
    "version": 3
   },
   "file_extension": ".py",
   "mimetype": "text/x-python",
   "name": "python",
   "nbconvert_exporter": "python",
   "pygments_lexer": "ipython3",
   "version": "3.7.5"
  }
 },
 "nbformat": 4,
 "nbformat_minor": 2
}
