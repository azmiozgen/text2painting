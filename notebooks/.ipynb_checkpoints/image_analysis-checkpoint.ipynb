{
 "cells": [
  {
   "cell_type": "code",
   "execution_count": 1,
   "metadata": {},
   "outputs": [],
   "source": [
    "import matplotlib.pyplot as plt\n",
    "import numpy as np\n",
    "import pandas as pd\n",
    "from gensim.models import Word2Vec, word2vec\n",
    "from PIL import Image\n",
    "from PIL.ImageStat import Stat\n",
    "\n",
    "import os\n",
    "\n",
    "pd.set_option('display.max_rows', 4200)\n",
    "%load_ext autoreload\n",
    "%autoreload 2"
   ]
  },
  {
   "cell_type": "code",
   "execution_count": 2,
   "metadata": {},
   "outputs": [],
   "source": [
    "LABEL_FILE = \"../data/verified/all_labels.csv\""
   ]
  },
  {
   "cell_type": "code",
   "execution_count": 3,
   "metadata": {},
   "outputs": [],
   "source": [
    "with open(LABEL_FILE, 'r') as f:\n",
    "    lines = f.readlines()\n",
    "image_files = [os.path.join(os.path.pardir, line.strip().split(',')[0]) for line in lines]\n",
    "# lines = list(map(lambda s: s.strip().split(',')[1:], lines))"
   ]
  },
  {
   "cell_type": "code",
   "execution_count": 4,
   "metadata": {},
   "outputs": [],
   "source": [
    "for image_file in image_files:\n",
    "    if not os.path.isfile(image_file):\n",
    "        print(image_file)"
   ]
  },
  {
   "cell_type": "code",
   "execution_count": 16,
   "metadata": {},
   "outputs": [],
   "source": [
    "shapes = []\n",
    "means = []\n",
    "stds = []\n",
    "for image_file in image_files:\n",
    "    img = Image.open(image_file)\n",
    "    w, h = img.size\n",
    "    shapes.append((w, h))\n",
    "    \n",
    "    stats = Stat(img)\n",
    "    means.append(stats.mean)\n",
    "    stds.append(stats.stddev)\n",
    "    \n",
    "shapes = np.array(shapes)\n",
    "means = np.array(means)\n",
    "stds = np.array(stds)"
   ]
  },
  {
   "cell_type": "code",
   "execution_count": 17,
   "metadata": {},
   "outputs": [
    {
     "name": "stdout",
     "output_type": "stream",
     "text": [
      "All stats\n",
      "Width mean: 858.7920962199313\n",
      "Width std: 346.8763157459771\n",
      "\n",
      "Height mean: 788.2511454753723\n",
      "Height std: 347.69276042861827\n",
      "\n",
      "Red mean: 124.27882617763328\n",
      "Green mean: 114.52060530595996\n",
      "Blue mean: 104.49660421742587\n",
      "\n",
      "Red std: 55.97375539090473\n",
      "Green std: 53.65260983004773\n",
      "Blue std: 50.937073163814716\n"
     ]
    }
   ],
   "source": [
    "print('All stats')\n",
    "print('Width mean:', shapes[:, 0].mean())\n",
    "print('Width std:', shapes[:, 0].std())\n",
    "\n",
    "print('\\nHeight mean:', shapes[:, 1].mean())\n",
    "print('Height std:', shapes[:, 1].std())\n",
    "\n",
    "print('\\nRed mean:', means[:, 0].mean())\n",
    "print('Green mean:', means[:, 1].mean())\n",
    "print('Blue mean:', means[:, 2].mean())\n",
    "\n",
    "print('\\nRed std:', stds[:, 0].mean())\n",
    "print('Green std:', stds[:, 1].mean())\n",
    "print('Blue std:', stds[:, 2].mean())"
   ]
  },
  {
   "cell_type": "code",
   "execution_count": 18,
   "metadata": {},
   "outputs": [],
   "source": [
    "shapes_wikiart = []\n",
    "means_wikiart = []\n",
    "stds_wikiart = []\n",
    "for image_file in image_files:\n",
    "    if 'wikiart' not in image_file:\n",
    "        continue\n",
    "    img = Image.open(image_file)\n",
    "    w, h = img.size\n",
    "    shapes_wikiart.append((w, h))\n",
    "    \n",
    "    stats = Stat(img)\n",
    "    means_wikiart.append(stats.mean)\n",
    "    stds_wikiart.append(stats.stddev)\n",
    "    \n",
    "shapes_wikiart = np.array(shapes_wikiart)\n",
    "means_wikiart = np.array(means_wikiart)\n",
    "stds_wikiart = np.array(stds_wikiart)"
   ]
  },
  {
   "cell_type": "code",
   "execution_count": 20,
   "metadata": {},
   "outputs": [
    {
     "name": "stdout",
     "output_type": "stream",
     "text": [
      "Wikiart stats\n",
      "Width mean: 609.5378006872852\n",
      "Width std: 147.98840548751414\n",
      "Height mean: 561.0555555555555\n",
      "Height std: 60.12519208644024\n",
      "\n",
      "Red mean: 120.91378305101792\n",
      "Green mean: 107.2502950998082\n",
      "Blue mean: 90.47919430895917\n",
      "\n",
      "Red std: 55.84221951703848\n",
      "Green std: 52.453447773376794\n",
      "Blue std: 48.7703367052784\n"
     ]
    }
   ],
   "source": [
    "print('Wikiart stats')\n",
    "print('Width mean:', shapes_wikiart[:, 0].mean())\n",
    "print('Width std:', shapes_wikiart[:, 0].std())\n",
    "\n",
    "print('Height mean:', shapes_wikiart[:, 1].mean())\n",
    "print('Height std:', shapes_wikiart[:, 1].std())\n",
    "\n",
    "print('\\nRed mean:', means_wikiart[:, 0].mean())\n",
    "print('Green mean:', means_wikiart[:, 1].mean())\n",
    "print('Blue mean:', means_wikiart[:, 2].mean())\n",
    "\n",
    "print('\\nRed std:', stds_wikiart[:, 0].mean())\n",
    "print('Green std:', stds_wikiart[:, 1].mean())\n",
    "print('Blue std:', stds_wikiart[:, 2].mean())"
   ]
  },
  {
   "cell_type": "code",
   "execution_count": 21,
   "metadata": {},
   "outputs": [],
   "source": [
    "shapes_deviantart = []\n",
    "means_deviantart = []\n",
    "stds_deviantart = []\n",
    "for image_file in image_files:\n",
    "    if 'deviantart' not in image_file:\n",
    "        continue\n",
    "    img = Image.open(image_file)\n",
    "    w, h = img.size\n",
    "    shapes_deviantart.append((w, h))\n",
    "    \n",
    "    stats = Stat(img)\n",
    "    means_deviantart.append(stats.mean)\n",
    "    stds_deviantart.append(stats.stddev)\n",
    "\n",
    "shapes_deviantart = np.array(shapes_deviantart)\n",
    "means_deviantart = np.array(means_deviantart)\n",
    "stds_deviantart = np.array(stds_deviantart)"
   ]
  },
  {
   "cell_type": "code",
   "execution_count": 22,
   "metadata": {},
   "outputs": [
    {
     "name": "stdout",
     "output_type": "stream",
     "text": [
      "Deviantart stats\n",
      "Width mean: 1108.0463917525774\n",
      "Width std: 307.3928772911261\n",
      "Height mean: 1015.446735395189\n",
      "Height std: 367.32791947725224\n",
      "\n",
      "Red mean: 127.64386930424864\n",
      "Green mean: 121.7909155121117\n",
      "Blue mean: 118.51401412589257\n",
      "\n",
      "Red std: 56.10529126477099\n",
      "Green std: 54.851771886718666\n",
      "Blue std: 53.103809622351015\n"
     ]
    }
   ],
   "source": [
    "print('Deviantart stats')\n",
    "print('Width mean:', shapes_deviantart[:, 0].mean())\n",
    "print('Width std:', shapes_deviantart[:, 0].std())\n",
    "\n",
    "print('Height mean:', shapes_deviantart[:, 1].mean())\n",
    "print('Height std:', shapes_deviantart[:, 1].std())\n",
    "\n",
    "print('\\nRed mean:', means_deviantart[:, 0].mean())\n",
    "print('Green mean:', means_deviantart[:, 1].mean())\n",
    "print('Blue mean:', means_deviantart[:, 2].mean())\n",
    "\n",
    "print('\\nRed std:', stds_deviantart[:, 0].mean())\n",
    "print('Green std:', stds_deviantart[:, 1].mean())\n",
    "print('Blue std:', stds_deviantart[:, 2].mean())"
   ]
  }
 ],
 "metadata": {
  "kernelspec": {
   "display_name": "pytorch1.3",
   "language": "python",
   "name": "pytorch1.3"
  },
  "language_info": {
   "codemirror_mode": {
    "name": "ipython",
    "version": 3
   },
   "file_extension": ".py",
   "mimetype": "text/x-python",
   "name": "python",
   "nbconvert_exporter": "python",
   "pygments_lexer": "ipython3",
   "version": "3.7.5"
  }
 },
 "nbformat": 4,
 "nbformat_minor": 2
}
