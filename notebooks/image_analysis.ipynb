{
 "cells": [
  {
   "cell_type": "code",
   "execution_count": 1,
   "metadata": {},
   "outputs": [],
   "source": [
    "import matplotlib.pyplot as plt\n",
    "import numpy as np\n",
    "import pandas as pd\n",
    "from gensim.models import Word2Vec, word2vec\n",
    "from PIL import Image\n",
    "\n",
    "import os\n",
    "\n",
    "pd.set_option('display.max_rows', 4200)\n",
    "%load_ext autoreload\n",
    "%autoreload 2"
   ]
  },
  {
   "cell_type": "code",
   "execution_count": 2,
   "metadata": {},
   "outputs": [],
   "source": [
    "LABEL_FILE = \"../data/verified/all_labels.csv\""
   ]
  },
  {
   "cell_type": "code",
   "execution_count": 3,
   "metadata": {},
   "outputs": [],
   "source": [
    "with open(LABEL_FILE, 'r') as f:\n",
    "    lines = f.readlines()\n",
    "image_files = [os.path.join(os.path.pardir, line.strip().split(',')[0]) for line in lines]\n",
    "# lines = list(map(lambda s: s.strip().split(',')[1:], lines))"
   ]
  },
  {
   "cell_type": "code",
   "execution_count": 4,
   "metadata": {},
   "outputs": [],
   "source": [
    "for image_file in image_files:\n",
    "    if not os.path.isfile(image_file):\n",
    "        print(image_file)"
   ]
  },
  {
   "cell_type": "code",
   "execution_count": 18,
   "metadata": {},
   "outputs": [],
   "source": [
    "shapes = []\n",
    "for image_file in image_files:\n",
    "    img = Image.open(image_file)\n",
    "    w, h = img.size\n",
    "    shapes.append((w, h))\n",
    "    \n",
    "shapes = np.array(shapes)"
   ]
  },
  {
   "cell_type": "code",
   "execution_count": 22,
   "metadata": {},
   "outputs": [
    {
     "name": "stdout",
     "output_type": "stream",
     "text": [
      "All stats\n",
      "Width mean: 858.7920962199313\n",
      "Width std: 346.8763157459771\n",
      "Height mean: 788.2511454753723\n",
      "Height std: 347.69276042861827\n"
     ]
    }
   ],
   "source": [
    "print('All stats')\n",
    "print('Width mean:', shapes[:, 0].mean())\n",
    "print('Width std:', shapes[:, 0].std())\n",
    "\n",
    "print('Height mean:', shapes[:, 1].mean())\n",
    "print('Height std:', shapes[:, 1].std())"
   ]
  },
  {
   "cell_type": "code",
   "execution_count": 26,
   "metadata": {},
   "outputs": [],
   "source": [
    "shapes_wikiart = []\n",
    "for image_file in image_files:\n",
    "    if 'wikiart' not in image_file:\n",
    "        continue\n",
    "    img = Image.open(image_file)\n",
    "    w, h = img.size\n",
    "    shapes_wikiart.append((w, h))\n",
    "shapes_wikiart = np.array(shapes_wikiart)"
   ]
  },
  {
   "cell_type": "code",
   "execution_count": 27,
   "metadata": {},
   "outputs": [
    {
     "name": "stdout",
     "output_type": "stream",
     "text": [
      "Wikiart stats\n",
      "Width mean: 609.5378006872852\n",
      "Width std: 147.98840548751414\n",
      "Height mean: 561.0555555555555\n",
      "Height std: 60.12519208644024\n"
     ]
    }
   ],
   "source": [
    "print('Wikiart stats')\n",
    "print('Width mean:', shapes_wikiart[:, 0].mean())\n",
    "print('Width std:', shapes_wikiart[:, 0].std())\n",
    "\n",
    "print('Height mean:', shapes_wikiart[:, 1].mean())\n",
    "print('Height std:', shapes_wikiart[:, 1].std())"
   ]
  },
  {
   "cell_type": "code",
   "execution_count": 29,
   "metadata": {},
   "outputs": [],
   "source": [
    "shapes_deviantart = []\n",
    "for image_file in image_files:\n",
    "    if 'deviantart' not in image_file:\n",
    "        continue\n",
    "    img = Image.open(image_file)\n",
    "    w, h = img.size\n",
    "    shapes_deviantart.append((w, h))\n",
    "shapes_deviantart = np.array(shapes_deviantart)"
   ]
  },
  {
   "cell_type": "code",
   "execution_count": 30,
   "metadata": {},
   "outputs": [
    {
     "name": "stdout",
     "output_type": "stream",
     "text": [
      "Deviantart stats\n",
      "Width mean: 1108.0463917525774\n",
      "Width std: 307.3928772911261\n",
      "Height mean: 1015.446735395189\n",
      "Height std: 367.32791947725224\n"
     ]
    }
   ],
   "source": [
    "print('Deviantart stats')\n",
    "print('Width mean:', shapes_deviantart[:, 0].mean())\n",
    "print('Width std:', shapes_deviantart[:, 0].std())\n",
    "\n",
    "print('Height mean:', shapes_deviantart[:, 1].mean())\n",
    "print('Height std:', shapes_deviantart[:, 1].std())"
   ]
  }
 ],
 "metadata": {
  "kernelspec": {
   "display_name": "pytorch1.3",
   "language": "python",
   "name": "pytorch1.3"
  },
  "language_info": {
   "codemirror_mode": {
    "name": "ipython",
    "version": 3
   },
   "file_extension": ".py",
   "mimetype": "text/x-python",
   "name": "python",
   "nbconvert_exporter": "python",
   "pygments_lexer": "ipython3",
   "version": "3.7.5"
  }
 },
 "nbformat": 4,
 "nbformat_minor": 2
}
