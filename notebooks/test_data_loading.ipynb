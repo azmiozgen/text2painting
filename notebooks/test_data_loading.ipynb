{
 "cells": [
  {
   "cell_type": "code",
   "execution_count": 4,
   "metadata": {},
   "outputs": [],
   "source": [
    "## Libraries\n",
    "import glob\n",
    "import os\n",
    "import sys\n",
    "\n",
    "## 3rd party\n",
    "import numpy as np\n",
    "import pandas as pd\n",
    "from PIL import Image, ImageFilter\n",
    "\n",
    "_path = \"..\"\n",
    "if _path not in sys.path:\n",
    "    sys.path.append(_path)\n",
    "from lib.dataset import TextArtDataLoader, AlignCollate\n",
    "from lib.config import Config\n",
    "# from lib.preprocess import (pad_image, crop_edges_lr, )\n",
    "\n",
    "%reload_ext autoreload\n",
    "%autoreload 2"
   ]
  },
  {
   "cell_type": "code",
   "execution_count": 5,
   "metadata": {},
   "outputs": [],
   "source": [
    "cf = Config()"
   ]
  },
  {
   "cell_type": "code",
   "execution_count": 6,
   "metadata": {},
   "outputs": [],
   "source": [
    "train_dataset = TextArtDataLoader(['wikiart', 'deviantart'], mode='train')\n",
    "train_align_collate = AlignCollate('train',\n",
    "                                   cf.MEAN,\n",
    "                                   cf.STD,\n",
    "                                   cf.IMAGE_SIZE_HEIGHT,\n",
    "                                   cf.IMAGE_SIZE_WIDTH,\n",
    "                                   horizontal_flipping=cf.HORIZONTAL_FLIPPING,\n",
    "                                   random_rotation=cf.RANDOM_ROTATION,\n",
    "                                   color_jittering=cf.COLOR_JITTERING,\n",
    "                                   random_grayscale=cf.RANDOM_GRAYSCALE,\n",
    "                                   random_channel_swapping=cf.RANDOM_CHANNEL_SWAPPING,\n",
    "                                   random_gamma=cf.RANDOM_GAMMA,\n",
    "                                   random_resolution=cf.RANDOM_RESOLUTION)"
   ]
  },
  {
   "cell_type": "code",
   "execution_count": null,
   "metadata": {},
   "outputs": [],
   "source": []
  }
 ],
 "metadata": {
  "kernelspec": {
   "display_name": "pytorch-cpu",
   "language": "python",
   "name": "pytorch-cpu"
  },
  "language_info": {
   "codemirror_mode": {
    "name": "ipython",
    "version": 3
   },
   "file_extension": ".py",
   "mimetype": "text/x-python",
   "name": "python",
   "nbconvert_exporter": "python",
   "pygments_lexer": "ipython3",
   "version": "3.7.5"
  }
 },
 "nbformat": 4,
 "nbformat_minor": 2
}
