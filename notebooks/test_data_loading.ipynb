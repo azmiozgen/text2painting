{
 "cells": [
  {
   "cell_type": "code",
   "execution_count": null,
   "metadata": {},
   "outputs": [],
   "source": [
    "## Libraries\n",
    "import glob\n",
    "from multiprocessing import cpu_count\n",
    "import os\n",
    "import random\n",
    "import sys\n",
    "\n",
    "## 3rd party\n",
    "from gensim.models import Word2Vec\n",
    "import matplotlib.pyplot as plt\n",
    "import numpy as np\n",
    "import pandas as pd\n",
    "from PIL import Image, ImageFilter\n",
    "import torch\n",
    "from torch.utils.data import DataLoader\n",
    "\n",
    "_path = \"..\"\n",
    "if _path not in sys.path:\n",
    "    sys.path.append(_path)\n",
    "from lib.dataset import TextArtDataLoader, AlignCollate, ImageBatchSampler\n",
    "from lib.config import Config\n",
    "# from lib.preprocess import (pad_image, crop_edges_lr, )\n",
    "\n",
    "%reload_ext autoreload\n",
    "%autoreload 2"
   ]
  },
  {
   "cell_type": "code",
   "execution_count": null,
   "metadata": {},
   "outputs": [],
   "source": [
    "BATCH_SIZE = 4\n",
    "# N_WORKERS = cpu_count() - 1\n",
    "N_WORKERS = 0\n",
    "CONFIG = Config()"
   ]
  },
  {
   "cell_type": "code",
   "execution_count": null,
   "metadata": {},
   "outputs": [],
   "source": [
    "train_dataset = TextArtDataLoader(CONFIG, mode='train')\n",
    "val_dataset = TextArtDataLoader(CONFIG, mode='val')\n",
    "test_dataset = TextArtDataLoader(CONFIG, mode='test')\n",
    "\n",
    "train_align_collate = AlignCollate(CONFIG, 'train')\n",
    "val_align_collate = AlignCollate(CONFIG, 'val')\n",
    "\n",
    "train_batch_sampler = ImageBatchSampler(CONFIG, mode='train')\n",
    "val_batch_sampler = ImageBatchSampler(CONFIG, mode='val')\n",
    "\n",
    "train_loader = DataLoader(train_dataset,\n",
    "                          batch_size=BATCH_SIZE,\n",
    "                          shuffle=False,\n",
    "                          num_workers=N_WORKERS,\n",
    "                          pin_memory=True,\n",
    "                          collate_fn=train_align_collate,\n",
    "                          sampler=train_batch_sampler,\n",
    "                         )\n",
    "val_loader = DataLoader(val_dataset,\n",
    "                          batch_size=BATCH_SIZE,\n",
    "                          shuffle=False,\n",
    "                          num_workers=N_WORKERS,\n",
    "                          pin_memory=True,\n",
    "                          collate_fn=val_align_collate,\n",
    "                          sampler=val_batch_sampler\n",
    "                         )\n",
    "test_loader = DataLoader(test_dataset,\n",
    "                          batch_size=BATCH_SIZE,\n",
    "                          shuffle=False,\n",
    "                          num_workers=N_WORKERS,\n",
    "                          pin_memory=True,\n",
    "                          collate_fn=None,\n",
    "                         )"
   ]
  },
  {
   "cell_type": "code",
   "execution_count": null,
   "metadata": {},
   "outputs": [],
   "source": [
    "class InvNormalize(object):\n",
    "    def __init__(self, mean, std):\n",
    "        self.mean = mean\n",
    "        self.std = std\n",
    "\n",
    "    def __call__(self, tensor):\n",
    "        for t, m, s in zip(tensor, self.mean, self.std):\n",
    "            t.mul_(s).add_(m)\n",
    "            # The normalize code -> t.sub_(m).div_(s)\n",
    "        return tensor"
   ]
  },
  {
   "cell_type": "code",
   "execution_count": null,
   "metadata": {
    "scrolled": true
   },
   "outputs": [],
   "source": [
    "inv_normalize = InvNormalize(CONFIG.MEAN, CONFIG.STD)\n",
    "for i, (images, wv_tensor, fake_wv_tensor) in enumerate(train_loader):\n",
    "    print(\"IMAGE:\", images.shape)\n",
    "    print(\"WV:\", wv_tensor.shape)\n",
    "    print(\"Fake WV:\", fake_wv_tensor.shape)\n",
    "    \n",
    "    print(\"WVs\")\n",
    "    for wvs in wv_tensor:\n",
    "        for wv in wvs:\n",
    "            wv = np.array(wv)\n",
    "            word, prob = train_loader.dataset.word2vec_model.wv.similar_by_vector(wv)[0]\n",
    "            print(\"{}/{:.3f}\".format(word, prob), end=' ')\n",
    "        print()\n",
    "    \n",
    "    print(\"\\nFake WVs\")\n",
    "    for fake_wvs in fake_wv_tensor:\n",
    "        for fake_wv in fake_wvs:\n",
    "            fake_wv = np.array(fake_wv)\n",
    "            fake_word, prob = train_loader.dataset.word2vec_model.wv.similar_by_vector(fake_wv)[0]\n",
    "            print(\"{}/{:.3f}\".format(fake_word, prob), end=' ')\n",
    "        print()\n",
    "    \n",
    "    for image in images:\n",
    "        image = inv_normalize(image)\n",
    "        image = np.array(image)\n",
    "        image = image.transpose(1, 2, 0)\n",
    "        plt.figure(figsize=(6, 6))\n",
    "        plt.imshow(image)\n",
    "        plt.show()\n",
    "    break"
   ]
  },
  {
   "cell_type": "code",
   "execution_count": null,
   "metadata": {},
   "outputs": [],
   "source": [
    "from PIL import Image, ImageDraw, ImageFont\n",
    "def words2image(text_list, image_shapes=(64, 64)):\n",
    "    w, h = image_shapes\n",
    "\n",
    "    img = Image.fromarray(np.ones(image_shapes))\n",
    "    draw = ImageDraw.Draw(img)\n",
    "    font = ImageFont.truetype(\"Lato-Medium.ttf\", 7)\n",
    "    \n",
    "    x = int(w * 0.1)\n",
    "    y0 = int(h * 0.01)\n",
    "    for i, text in enumerate(text_list):\n",
    "        y = i * len(text_list) + y0\n",
    "        draw.text((x, y), text, 0, font=font)\n",
    "\n",
    "    return np.array(img.convert('RGB'))"
   ]
  },
  {
   "cell_type": "code",
   "execution_count": null,
   "metadata": {},
   "outputs": [],
   "source": [
    "grid = make_grid(images, nrow=2).permute(1, 2, 0)\n",
    "plt.title(\"HERE\")\n",
    "plt.imshow(grid)"
   ]
  },
  {
   "cell_type": "code",
   "execution_count": null,
   "metadata": {},
   "outputs": [],
   "source": [
    "from matplotlib.backends.backend_agg import FigureCanvasAgg as FigureCanvas\n",
    "from matplotlib.figure import Figure"
   ]
  },
  {
   "cell_type": "code",
   "execution_count": null,
   "metadata": {
    "scrolled": false
   },
   "outputs": [],
   "source": [
    "images_bag = []\n",
    "for i, (fake_image, real_wvs) in enumerate(zip(images, wv_tensor)):\n",
    "    words = []\n",
    "    for real_wv in real_wvs:\n",
    "        real_wv = np.array(real_wv)\n",
    "        word, prob = train_dataset.word2vec_model.wv.similar_by_vector(real_wv)[0]\n",
    "        words.append(word)\n",
    "\n",
    "    fake_image = np.array(fake_image).transpose(1, 2, 0)\n",
    "    word_image = words2image(words)\n",
    "    \n",
    "    images_bag.extend([word_image, fake_image])\n",
    "    \n",
    "images_bag = np.array(images_bag)"
   ]
  },
  {
   "cell_type": "code",
   "execution_count": null,
   "metadata": {
    "scrolled": true
   },
   "outputs": [],
   "source": [
    "words.extend(words)\n",
    "text_list = words\n",
    "image_shapes = (128, 128)\n",
    "w, h = image_shapes\n",
    "\n",
    "img = Image.fromarray(np.ones(image_shapes))\n",
    "draw = ImageDraw.Draw(img)\n",
    "font = ImageFont.truetype(\"Lato-Medium.ttf\", 10)\n",
    "\n",
    "x1 = int(w * 0.1)\n",
    "x2 = int(w * 0.6)\n",
    "y0 = int(h * 0.01)\n",
    "word_height = h // len(text_list) * 2\n",
    "for i, text in enumerate(text_list):\n",
    "    y = (i // 2) * word_height + y0 if i % 2 == 0 else (i - 1) // 2 * word_height + y0\n",
    "    x = x1 if i % 2 == 0 else x2\n",
    "    draw.text((x, y), text, 0, font=font)\n",
    "\n",
    "img = np.array(img.convert('RGB')) * 255\n",
    "plt.imshow(img)"
   ]
  },
  {
   "cell_type": "code",
   "execution_count": null,
   "metadata": {},
   "outputs": [],
   "source": [
    "grid_pil = Image.fromarray(np.array(grid * 255, dtype=np.uint8))"
   ]
  },
  {
   "cell_type": "code",
   "execution_count": null,
   "metadata": {},
   "outputs": [],
   "source": [
    "grid = make_grid(torch.Tensor(images_bag.transpose(0, 3, 1, 2)), nrow=4).permute(1, 2, 0)\n",
    "plt.figure(figsize=(10, 10))\n",
    "plt.imshow(grid)"
   ]
  },
  {
   "cell_type": "code",
   "execution_count": null,
   "metadata": {},
   "outputs": [],
   "source": [
    "from torchvision.utils import make_grid\n",
    "make_grid(torch.Tensor(images_bag))"
   ]
  },
  {
   "cell_type": "code",
   "execution_count": null,
   "metadata": {},
   "outputs": [],
   "source": [
    "plt.imshow(words2image(words), cmap='gray')"
   ]
  },
  {
   "cell_type": "code",
   "execution_count": null,
   "metadata": {},
   "outputs": [],
   "source": [
    "words.extend(words)"
   ]
  },
  {
   "cell_type": "code",
   "execution_count": null,
   "metadata": {},
   "outputs": [],
   "source": [
    "words"
   ]
  },
  {
   "cell_type": "code",
   "execution_count": null,
   "metadata": {},
   "outputs": [],
   "source": []
  }
 ],
 "metadata": {
  "kernelspec": {
   "display_name": "pytorch1.3",
   "language": "python",
   "name": "pytorch1.3"
  },
  "language_info": {
   "codemirror_mode": {
    "name": "ipython",
    "version": 3
   },
   "file_extension": ".py",
   "mimetype": "text/x-python",
   "name": "python",
   "nbconvert_exporter": "python",
   "pygments_lexer": "ipython3",
   "version": "3.7.5"
  }
 },
 "nbformat": 4,
 "nbformat_minor": 2
}
